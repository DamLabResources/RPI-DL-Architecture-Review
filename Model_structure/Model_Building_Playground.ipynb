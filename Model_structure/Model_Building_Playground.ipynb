{
 "cells": [
  {
   "cell_type": "markdown",
   "metadata": {},
   "source": [
    "## Model Building Playground\n",
    "\n",
    "RPISeq\n",
    "https://www.ncbi.nlm.nih.gov/pmc/articles/PMC5992449/\n",
    "\n",
    "RNA     = 256 vector (sparse 4-mer matrix)\n",
    "* Each input of the RNA sequence is processed into a 4k × (L − k + 1) k-mers sparse matrix R\n",
    "* When $R_{j},R_{j+1},R_{j+2},R_{j+3}$ are just equal to the $i$th k-mers among 4k different k-mers, set the element $a_{i,j}$ = 1.\n",
    "\n",
    "|| window_1 | window_2 | ... | window_n |\n",
    "|:--:|:--:|:--:|:--:|:--:|\n",
    "|kmer 1| 0 | 1 | ... | 0|\n",
    "|kmer 2| 1 | 0 | ... | 0|\n",
    "|kmer 3| 0 | 0 | ... | 0|\n",
    "\n",
    "* Then, we use SVD to process a matrix R into a 1 × 256 vector feature\n",
    "\n",
    "Protein = 240 vector (passm PZM41 features) (Psi-blast (w/ swisprot database) -> PZM41 features)\n",
    "* In experiments, we used the position-specific iterated BLAST (PSI-BLAST) tool to convert protein raw sequence into PSSM. We set the PSI-BLAST tool against the database of SwissProt, the number of iteration as 3, and err-value to 0.001, to get the best results. \n",
    "* PZM is widely used in the field of image processing and has achieved good results, which can extract features from the matrix more robustly and has less information redundancy. We set the PZM required parameter n, m = 30."
   ]
  },
  {
   "cell_type": "code",
   "execution_count": 1,
   "metadata": {},
   "outputs": [
    {
     "data": {
      "text/plain": [
       "256"
      ]
     },
     "execution_count": 1,
     "metadata": {},
     "output_type": "execute_result"
    }
   ],
   "source": [
    "class KmerMatrixEmbedder(nn.module):\n",
    "    \"\"\"\n",
    "    Used to encode RNAs into a k-mer sparse tensor\n",
    "    \n",
    "    NOT FINISHED YET\n",
    "    \"\"\"\n",
    "    \n",
    "    def __init__(self, k):\n",
    "        self.k = k\n",
    "    \n",
    "    def convolve(self, seq):\n",
    "        \"\"\"\n",
    "        \"\"\"\n",
    "        \n",
    "        return [seq[i : i+self.k] for i in range(len(seq) - self.k+1)]\n",
    "    \n",
    "    def forward(seq):\n",
    "        # convert into matrix\n",
    "        \n",
    "        pass"
   ]
  },
  {
   "cell_type": "code",
   "execution_count": 3,
   "metadata": {},
   "outputs": [],
   "source": [
    "from torch import nn\n",
    "import torch\n",
    "\n",
    "# fastai tools for bulding conveinience\n",
    "import fastai\n",
    "import fastai.tabular\n",
    "\n",
    "# Misc tools\n",
    "import numpy as np"
   ]
  },
  {
   "cell_type": "code",
   "execution_count": 5,
   "metadata": {},
   "outputs": [
    {
     "data": {
      "text/plain": [
       "['ATGA', 'TGAC', 'GACC']"
      ]
     },
     "execution_count": 5,
     "metadata": {},
     "output_type": "execute_result"
    }
   ],
   "source": [
    "x = 'ATGACC'\n",
    "k = 4\n",
    "\n",
    "[x[i : i+k] for i in range(len(x) - k + 1)]"
   ]
  },
  {
   "cell_type": "code",
   "execution_count": null,
   "metadata": {},
   "outputs": [],
   "source": []
  }
 ],
 "metadata": {
  "kernelspec": {
   "display_name": "Python 3",
   "language": "python",
   "name": "python3"
  },
  "language_info": {
   "codemirror_mode": {
    "name": "ipython",
    "version": 3
   },
   "file_extension": ".py",
   "mimetype": "text/x-python",
   "name": "python",
   "nbconvert_exporter": "python",
   "pygments_lexer": "ipython3",
   "version": "3.7.3"
  }
 },
 "nbformat": 4,
 "nbformat_minor": 4
}
