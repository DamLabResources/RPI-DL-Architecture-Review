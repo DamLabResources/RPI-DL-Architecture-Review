{
 "cells": [
  {
   "cell_type": "markdown",
   "metadata": {},
   "source": [
    "# Model Testing\n",
    "\n",
    "There are three models for ..."
   ]
  },
  {
   "cell_type": "markdown",
   "metadata": {},
   "source": [
    "## Data Processing\n",
    "\n",
    "We'll be using the [NPInter v4.0](http://bigdata.ibp.ac.cn/npinter4) database for RNA-Protein interactions. There were gathered by downloading the [All Interactions](http://bigdata.ibp.ac.cn/npinter4/download/file/interaction_NPInterv4.txt.gz) in NPInter."
   ]
  },
  {
   "cell_type": "code",
   "execution_count": 2,
   "metadata": {},
   "outputs": [],
   "source": [
    "import pandas as pd\n",
    "import requests\n",
    "from io import BytesIO\n",
    "\n",
    "import matplotlib.pyplot as plt\n",
    "import seaborn as sbn; sbn.set_style('ticks')\n",
    "\n",
    "import torch\n",
    "from torch import nn"
   ]
  },
  {
   "cell_type": "code",
   "execution_count": 3,
   "metadata": {},
   "outputs": [
    {
     "name": "stderr",
     "output_type": "stream",
     "text": [
      "/home/robertlink/anaconda3/lib/python3.7/site-packages/IPython/core/interactiveshell.py:3057: DtypeWarning: Columns (9) have mixed types. Specify dtype option on import or set low_memory=False.\n",
      "  interactivity=interactivity, compiler=compiler, result=result)\n"
     ]
    },
    {
     "name": "stdout",
     "output_type": "stream",
     "text": [
      "\n",
      "There are: 457498 interactions\n",
      "---\n",
      "\n"
     ]
    },
    {
     "data": {
      "text/html": [
       "<div>\n",
       "<style scoped>\n",
       "    .dataframe tbody tr th:only-of-type {\n",
       "        vertical-align: middle;\n",
       "    }\n",
       "\n",
       "    .dataframe tbody tr th {\n",
       "        vertical-align: top;\n",
       "    }\n",
       "\n",
       "    .dataframe thead th {\n",
       "        text-align: right;\n",
       "    }\n",
       "</style>\n",
       "<table border=\"1\" class=\"dataframe\">\n",
       "  <thead>\n",
       "    <tr style=\"text-align: right;\">\n",
       "      <th></th>\n",
       "      <th>interID</th>\n",
       "      <th>ncName</th>\n",
       "      <th>ncID</th>\n",
       "      <th>ncType</th>\n",
       "      <th>tarName</th>\n",
       "      <th>tarID</th>\n",
       "      <th>tarType</th>\n",
       "      <th>interDescription</th>\n",
       "      <th>experiment</th>\n",
       "      <th>reference</th>\n",
       "      <th>organism</th>\n",
       "      <th>tissueOrCell</th>\n",
       "      <th>tag</th>\n",
       "      <th>class</th>\n",
       "      <th>level</th>\n",
       "      <th>datasource</th>\n",
       "    </tr>\n",
       "  </thead>\n",
       "  <tbody>\n",
       "    <tr>\n",
       "      <th>0</th>\n",
       "      <td>ncRI-40000001</td>\n",
       "      <td>4.5S</td>\n",
       "      <td>NONOTHNOBEDT000074</td>\n",
       "      <td>lncRNA</td>\n",
       "      <td>rpoD</td>\n",
       "      <td>P0A6M8</td>\n",
       "      <td>protein</td>\n",
       "      <td>Following translocation, 4.5S RNA replaces 23S...</td>\n",
       "      <td>Immunoprecipitation experiments;EMSA;SDS-polya...</td>\n",
       "      <td>8662727;8107852;1281314</td>\n",
       "      <td>Escherichia coli</td>\n",
       "      <td>-</td>\n",
       "      <td>ncRNA-protein binding</td>\n",
       "      <td>binding</td>\n",
       "      <td>RNA-Protein</td>\n",
       "      <td>Literature mining</td>\n",
       "    </tr>\n",
       "    <tr>\n",
       "      <th>1</th>\n",
       "      <td>ncRI-40000002</td>\n",
       "      <td>6S</td>\n",
       "      <td>NONOTHNOBEDT000078</td>\n",
       "      <td>lncRNA</td>\n",
       "      <td>rpoB</td>\n",
       "      <td>M1FYN7</td>\n",
       "      <td>protein</td>\n",
       "      <td>UV crosslinking experiments revealed that 6S R...</td>\n",
       "      <td>cross-linking</td>\n",
       "      <td>10892648</td>\n",
       "      <td>Escherichia coli</td>\n",
       "      <td>-</td>\n",
       "      <td>ncRNA-protein binding</td>\n",
       "      <td>binding</td>\n",
       "      <td>RNA-Protein</td>\n",
       "      <td>Literature mining</td>\n",
       "    </tr>\n",
       "    <tr>\n",
       "      <th>2</th>\n",
       "      <td>ncRI-40000003</td>\n",
       "      <td>6S</td>\n",
       "      <td>NONOTHNOBEDT000078</td>\n",
       "      <td>lncRNA</td>\n",
       "      <td>rpoD</td>\n",
       "      <td>P00579</td>\n",
       "      <td>protein</td>\n",
       "      <td>The stable association of sigma70 with core en...</td>\n",
       "      <td>cross-linking</td>\n",
       "      <td>10892648</td>\n",
       "      <td>Escherichia coli</td>\n",
       "      <td>-</td>\n",
       "      <td>ncRNA-protein binding</td>\n",
       "      <td>binding</td>\n",
       "      <td>RNA-Protein</td>\n",
       "      <td>Literature mining</td>\n",
       "    </tr>\n",
       "    <tr>\n",
       "      <th>5</th>\n",
       "      <td>ncRI-40000006</td>\n",
       "      <td>7SK</td>\n",
       "      <td>NONHSAG040596</td>\n",
       "      <td>lncRNA</td>\n",
       "      <td>HEXIM1</td>\n",
       "      <td>O94992</td>\n",
       "      <td>protein</td>\n",
       "      <td>Binding of the 7SK snRNA turns the HEXIM1 prot...</td>\n",
       "      <td>Yeast two-hybrid analysis;Immunofluorescence;M...</td>\n",
       "      <td>15201869;15994294;17671421;20675720;20926576;1...</td>\n",
       "      <td>Homo sapiens</td>\n",
       "      <td>-</td>\n",
       "      <td>ncRNA-protein binding</td>\n",
       "      <td>binding</td>\n",
       "      <td>RNA-Protein</td>\n",
       "      <td>Literature mining</td>\n",
       "    </tr>\n",
       "    <tr>\n",
       "      <th>7</th>\n",
       "      <td>ncRI-40000008</td>\n",
       "      <td>7SK</td>\n",
       "      <td>NONHSAG040596</td>\n",
       "      <td>lncRNA</td>\n",
       "      <td>Tat</td>\n",
       "      <td>P17735</td>\n",
       "      <td>protein</td>\n",
       "      <td>Tat efficiently replaces HEXIM1 on the 7SK snR...</td>\n",
       "      <td>-</td>\n",
       "      <td>20976203;20471949</td>\n",
       "      <td>Homo sapiens</td>\n",
       "      <td>-</td>\n",
       "      <td>ncRNA-protein binding</td>\n",
       "      <td>binding</td>\n",
       "      <td>RNA-Protein</td>\n",
       "      <td>Literature mining</td>\n",
       "    </tr>\n",
       "  </tbody>\n",
       "</table>\n",
       "</div>"
      ],
      "text/plain": [
       "         interID ncName                ncID  ncType tarName   tarID  tarType  \\\n",
       "0  ncRI-40000001   4.5S  NONOTHNOBEDT000074  lncRNA    rpoD  P0A6M8  protein   \n",
       "1  ncRI-40000002     6S  NONOTHNOBEDT000078  lncRNA    rpoB  M1FYN7  protein   \n",
       "2  ncRI-40000003     6S  NONOTHNOBEDT000078  lncRNA    rpoD  P00579  protein   \n",
       "5  ncRI-40000006    7SK       NONHSAG040596  lncRNA  HEXIM1  O94992  protein   \n",
       "7  ncRI-40000008    7SK       NONHSAG040596  lncRNA     Tat  P17735  protein   \n",
       "\n",
       "                                    interDescription  \\\n",
       "0  Following translocation, 4.5S RNA replaces 23S...   \n",
       "1  UV crosslinking experiments revealed that 6S R...   \n",
       "2  The stable association of sigma70 with core en...   \n",
       "5  Binding of the 7SK snRNA turns the HEXIM1 prot...   \n",
       "7  Tat efficiently replaces HEXIM1 on the 7SK snR...   \n",
       "\n",
       "                                          experiment  \\\n",
       "0  Immunoprecipitation experiments;EMSA;SDS-polya...   \n",
       "1                                      cross-linking   \n",
       "2                                      cross-linking   \n",
       "5  Yeast two-hybrid analysis;Immunofluorescence;M...   \n",
       "7                                                  -   \n",
       "\n",
       "                                           reference          organism  \\\n",
       "0                            8662727;8107852;1281314  Escherichia coli   \n",
       "1                                           10892648  Escherichia coli   \n",
       "2                                           10892648  Escherichia coli   \n",
       "5  15201869;15994294;17671421;20675720;20926576;1...      Homo sapiens   \n",
       "7                                  20976203;20471949      Homo sapiens   \n",
       "\n",
       "  tissueOrCell                    tag    class        level         datasource  \n",
       "0            -  ncRNA-protein binding  binding  RNA-Protein  Literature mining  \n",
       "1            -  ncRNA-protein binding  binding  RNA-Protein  Literature mining  \n",
       "2            -  ncRNA-protein binding  binding  RNA-Protein  Literature mining  \n",
       "5            -  ncRNA-protein binding  binding  RNA-Protein  Literature mining  \n",
       "7            -  ncRNA-protein binding  binding  RNA-Protein  Literature mining  "
      ]
     },
     "execution_count": 3,
     "metadata": {},
     "output_type": "execute_result"
    }
   ],
   "source": [
    "# Get and open NPInter data\n",
    "url = \"http://bigdata.ibp.ac.cn/npinter4/download/file/interaction_NPInterv4.txt.gz\"\n",
    "data = requests.get(url).content\n",
    "\n",
    "df = pd.read_csv(BytesIO(data), compression='gzip', sep = '\\t')\n",
    "\n",
    "del data\n",
    "\n",
    "# Filter out non-RPI interactions. \n",
    "rpi_expermient = df.level.isin(['RNA-Protein','RNA-TF','lncRNA-TF','ncRNA-TF'])\n",
    "protein_target = df.tarType == 'protein'\n",
    "rna_source     = df.ncType  != 'protein'\n",
    "rpi_binding    = df['class'] == 'binding'\n",
    "\n",
    "# Filter out RNAs or Proteins with a blank ID\n",
    "has_rna_id     = df.ncID != '-'\n",
    "has_protein_id = df.tarID != '-'\n",
    "\n",
    "# Remove purely in-silico experiments\n",
    "not_in_silico = ~df.experiment.isin(['Bioinformatics', 'TargetScan and MiRanda prediction algorithms',\n",
    "                                      'Statistical analysis', 'prediction', 'Statistical analyses',\n",
    "                                      'statistical analysis', \"Correlation and co-expression analysis\"])\n",
    "\n",
    "df = df[rpi_expermient & protein_target & rna_source & rpi_binding # Filter out non-RPI interactions\n",
    "        & has_rna_id & has_protein_id                              # Filter out RNAs or Proteins with a blank ID\n",
    "        & not_in_silico]                                           # Remove purely in-silico experiments\n",
    "\n",
    "print(f\"\"\"\n",
    "There are: {df.shape[0]} interactions\n",
    "---\n",
    "\"\"\")\n",
    "\n",
    "df.head()"
   ]
  },
  {
   "cell_type": "code",
   "execution_count": 4,
   "metadata": {},
   "outputs": [
    {
     "ename": "NameError",
     "evalue": "name 'htop' is not defined",
     "output_type": "error",
     "traceback": [
      "\u001b[0;31m---------------------------------------------------------------------------\u001b[0m",
      "\u001b[0;31mNameError\u001b[0m                                 Traceback (most recent call last)",
      "\u001b[0;32m<ipython-input-4-a97fbf795c22>\u001b[0m in \u001b[0;36m<module>\u001b[0;34m\u001b[0m\n\u001b[0;32m----> 1\u001b[0;31m \u001b[0mhtop\u001b[0m\u001b[0;34m\u001b[0m\u001b[0;34m\u001b[0m\u001b[0m\n\u001b[0m",
      "\u001b[0;31mNameError\u001b[0m: name 'htop' is not defined"
     ]
    }
   ],
   "source": [
    "htop"
   ]
  },
  {
   "cell_type": "code",
   "execution_count": 8,
   "metadata": {},
   "outputs": [
    {
     "name": "stdout",
     "output_type": "stream",
     "text": [
      "There are 1005 unique proteins\n",
      "There are 76226 unique RNAs\n"
     ]
    }
   ],
   "source": [
    "print(f\"There are {len(set(df.tarID))} unique proteins\")\n",
    "print(f\"There are {len(set(df.ncID))} unique RNAs\")\n",
    "\n",
    "######################################################\n",
    "# Next cell is distribution of protein and rna lengths,\n",
    "# fill in when you acquire this info\n",
    "######################################################"
   ]
  },
  {
   "cell_type": "code",
   "execution_count": 4,
   "metadata": {
    "jupyter": {
     "source_hidden": true
    }
   },
   "outputs": [],
   "source": [
    "# # Protein length distribution for training\n",
    "# # RNA length distribution for training\n",
    "\n",
    "# fig, axes = plt.subplots(2,1, figsize = (8,5),\n",
    "#                          constrained_layout=True)\n",
    "\n",
    "# axes[0].hist(length_dict['protein'], bins=100,\n",
    "#              color = 'mediumslateblue',\n",
    "#              edgecolor='black')\n",
    "# axes[0].set_title('Training Protein length distribution')\n",
    "# axes[0].set_ylabel('Frequency')\n",
    "# axes[0].set_yscale('log')\n",
    "# axes[0].set_xlabel('Residues')\n",
    "\n",
    "# axes[1].hist(length_dict['rna'], bins=100,\n",
    "#              color = 'lightgreen',\n",
    "#              edgecolor='black')\n",
    "# axes[1].set_title('Training RNA length distribution')\n",
    "# axes[1].set_ylabel('Frequency')\n",
    "# axes[1].set_yscale('log')\n",
    "# axes[1].set_xlabel('Nucleotides')\n",
    "# #axes[1].set_ylim(0,10**3+1)\n",
    "\n",
    "# sbn.despine()"
   ]
  },
  {
   "cell_type": "code",
   "execution_count": 11,
   "metadata": {},
   "outputs": [],
   "source": [
    "# Count how many times an RPI occurs for each unique RNA and how many times it occures for each protein\n",
    "# Circos-esque graph"
   ]
  },
  {
   "cell_type": "code",
   "execution_count": 17,
   "metadata": {},
   "outputs": [
    {
     "data": {
      "image/png": "[encoded data removed]",
      "text/plain": [
       "<Figure size 432x288 with 1 Axes>"
      ]
     },
     "metadata": {},
     "output_type": "display_data"
    }
   ],
   "source": [
    "#############################################################\n",
    "# Frequency of each RNA type\n",
    "#############################################################\n",
    "\n",
    "unique_rna_df = df.groupby(['ncID','ncType']).size().reset_index()\n",
    "\n",
    "sbn.countplot('ncType', data = unique_rna_df)\n",
    "\n",
    "plt.title(\"RNA Type Frequency\")\n",
    "plt.yscale('log')\n",
    "plt.xlabel('RNA Type')\n",
    "plt.ylabel('Count');\n",
    "\n",
    "sbn.despine()"
   ]
  },
  {
   "cell_type": "code",
   "execution_count": 19,
   "metadata": {},
   "outputs": [
    {
     "data": {
      "image/png": "[encoded data removed]",
      "text/plain": [
       "<Figure size 432x288 with 1 Axes>"
      ]
     },
     "metadata": {},
     "output_type": "display_data"
    }
   ],
   "source": [
    "##############################################\n",
    "# Number of interactions for each organism\n",
    "##############################################\n",
    "\n",
    "sbn.countplot(y = 'organism',\n",
    "              data = df,\n",
    "              order = df['organism'].value_counts().index,\n",
    "              dodge = False)\n",
    "\n",
    "plt.ylabel('Organism')\n",
    "plt.xlabel('Interaction Counts')\n",
    "plt.xscale('log')\n",
    "\n",
    "sbn.despine()"
   ]
  },
  {
   "cell_type": "code",
   "execution_count": 20,
   "metadata": {
    "scrolled": true
   },
   "outputs": [
    {
     "data": {
      "text/plain": [
       "eCLIP                                                                                                         128022\n",
       "CLIP-Seq                                                                                                      111568\n",
       "PAR-CLIP                                                                                                       74695\n",
       "CLIP                                                                                                           61503\n",
       "HITS-CLIP                                                                                                      41165\n",
       "HITS-CLIP;CLIP-Seq                                                                                             18605\n",
       "eCLIP;CLIP                                                                                                      6100\n",
       "iCLIP                                                                                                           4704\n",
       "CLIP;PAR-CLIP                                                                                                   2278\n",
       "eCLIP;PAR-CLIP                                                                                                  1552\n",
       "iCLIP;PAR-CLIP                                                                                                  1548\n",
       "CHIRP-MS                                                                                                         790\n",
       "CLIP-Seq;PAR-CLIP                                                                                                646\n",
       "eCLIP;PAR-CLIP;CLIP                                                                                              622\n",
       "eCLIP;CLIP-Seq                                                                                                   609\n",
       "eCLIP;iCLIP                                                                                                      553\n",
       "RIP;PAR-CLIP;RNA interference                                                                                    464\n",
       "eCLIP;PAR-CLIP;iCLIP                                                                                             311\n",
       "eCLIP;CLIP-Seq;CLIP                                                                                              262\n",
       "PAR-CLIP;RIP;RNA interference                                                                                    169\n",
       "CRAC                                                                                                             164\n",
       "RNA interference                                                                                                 159\n",
       "RIP-Seq                                                                                                           92\n",
       "Immunoprecipitation experiments                                                                                   80\n",
       "HITS-CLIP;PAR-CLIP                                                                                                77\n",
       "RNA interference;RIP;PAR-CLIP                                                                                     64\n",
       "CLIP;CLIP-Seq                                                                                                     52\n",
       "RIP;RNA interference;PAR-CLIP                                                                                     42\n",
       "-                                                                                                                 37\n",
       "qRT-PCR                                                                                                           23\n",
       "                                                                                                               ...  \n",
       "RNA pull-down assay;RNA immunoprecipitation assay (RIP)                                                            1\n",
       "Western Blot;Yeast two-hybrid analysis                                                                             1\n",
       "RNA-pulldown;RIP assays                                                                                            1\n",
       "Chromatin immunoprecipitation (ChIP) and RNA immunoprecipitation (RIP);Immunohistochemistry (IHC) analysis         1\n",
       "CLIP;iCLIP;eCLIP;CLIP-Seq;PAR-CLIP                                                                                 1\n",
       "real-time quantitative PCR                                                                                         1\n",
       "CLIP;RT-PCR;RNA pull-down assays                                                                                   1\n",
       "RNA pull-down;RNA-binding protein immunoprecipitation (RIP) assay                                                  1\n",
       "RNA pull down;Mass spectrometry                                                                                    1\n",
       "RIP assays;RNA-pull down assays;ChIRP assay;Western blot analysis                                                  1\n",
       "RNA pull-down;RIP assays;PAR-CLIP                                                                                  1\n",
       "RNA immunoprecipitation;RNA pull-down                                                                              1\n",
       "RNA pull-down and RNA immunoprecipitation                                                                          1\n",
       "RNA-immunoprecipitation (RIP) assay;RIP assay;RNA pulldown                                                         1\n",
       "CHIRP-MS;Immunoprecipitation experiments                                                                           1\n",
       "RNA pull-down assay;Mass spectrometry;RNA immunoprecipitation-qPCR (RIP-qPCR);EMSA                                 1\n",
       "RNA pull-down;RIP assay                                                                                            1\n",
       "RNA pulldown assays and mass spectrometry;RNA immunoprecipitation (RIP) assays                                     1\n",
       "Yeast two-hybrid analysis;In situ Hybridization;Immunoprecipitation experiments                                    1\n",
       "RNA pull-down assays;eCLIP;RNA immunoprecipitation (RIP);GST pull-down assay                                       1\n",
       "Pull down assays;RNA interference                                                                                  1\n",
       "RIP and RNA pull-down assay                                                                                        1\n",
       "CLIP;RNA electrophoretic mobility shift assay (EMSA);RNA pull-down;RNA immunoprecipitation (RIP) assay             1\n",
       "RNA pull-down;mass spectrometry;RNA immunoprecipiation (RIP) assay;EMSA                                            1\n",
       "RNA pull-down followed by mass spectrometry;RNA immunoprecipitation (RIP) assays                                   1\n",
       "RIP assay;RNA immunoprecipitation (RIP) experiment                                                                 1\n",
       "RNA pull-down experiment;RIP;deletion-mapping experiments;RNA FISH                                                 1\n",
       "CLIP;microArray                                                                                                    1\n",
       "RNA Immunoprecipitation and RNA pull-down assays                                                                   1\n",
       "Transfection;RT-PCR                                                                                                1\n",
       "Name: experiment, Length: 291, dtype: int64"
      ]
     },
     "execution_count": 20,
     "metadata": {},
     "output_type": "execute_result"
    }
   ],
   "source": [
    "##############################################\n",
    "# Experiment Type\n",
    "##############################################\n",
    "\n",
    "df['experiment'].value_counts()"
   ]
  },
  {
   "cell_type": "code",
   "execution_count": 21,
   "metadata": {
    "scrolled": true
   },
   "outputs": [
    {
     "data": {
      "text/plain": [
       "HEK293                                                                              70385\n",
       "HepG2                                                                               52620\n",
       "K562                                                                                51905\n",
       "HeLa                                                                                38442\n",
       "MDA-MB-231                                                                          33982\n",
       "mouse brain                                                                         30824\n",
       "human brain                                                                         27927\n",
       "HepG2;K562                                                                          22627\n",
       "mouse brain;cerebrums                                                               18035\n",
       "ESC                                                                                 15818\n",
       "Flp-In 293                                                                           8552\n",
       "HEK293T                                                                              7589\n",
       "C666                                                                                 6101\n",
       "MDA-LM2                                                                              4305\n",
       "U87MG                                                                                3918\n",
       "CD4+ T;Jurkat;JSL1                                                                   3197\n",
       "cerebrums                                                                            2977\n",
       "Dorsolateral prefrontal cortex                                                       2778\n",
       "-                                                                                    2603\n",
       "CD4+ T                                                                               2363\n",
       "Aortic Smooth Muscle                                                                 2344\n",
       "MGG8                                                                                 2233\n",
       "MEL                                                                                  1963\n",
       "HEK293;MDA-MB-231                                                                    1957\n",
       "heart                                                                                1812\n",
       "HEK293;HeLa                                                                          1715\n",
       "MEF                                                                                  1705\n",
       "heart;muscle                                                                         1672\n",
       "Cardiomyocyte                                                                        1628\n",
       "H9ES                                                                                 1413\n",
       "                                                                                    ...  \n",
       "H266;SK-MES-1                                                                           1\n",
       "N9;QBC939;N33;RBE                                                                       1\n",
       "BC3;HeLa                                                                                1\n",
       "HEK293;A549;K562                                                                        1\n",
       "HepG2;HLE;K562                                                                          1\n",
       "mouse brain;EpiSC;trophoblast stem cells;cerebrums;ESC                                  1\n",
       "BEL-7402;Huh7                                                                           1\n",
       "N2a;RBMVEC                                                                              1\n",
       "HCC                                                                                     1\n",
       "Cardiomyocyte;Primary Keratinocytes plated without feeder layer;mouse brain;BMDM        1\n",
       "J82;T24                                                                                 1\n",
       "adrenal gland;HEK293T;K562                                                              1\n",
       "HDF                                                                                     1\n",
       "Rat Pulmonary microvascular endothelial cells                                           1\n",
       "gastric                                                                                 1\n",
       "A549;H522;P53RRA;HBE;P53RRA;HEK293T;SPCA1                                               1\n",
       "SW480;HT29                                                                              1\n",
       "HeLa;HCT116;HepG2                                                                       1\n",
       "human NB tissues                                                                        1\n",
       "Colorectal                                                                              1\n",
       "KYSE150;KYDE450                                                                         1\n",
       "Neuro2a                                                                                 1\n",
       "MCF7;HEK293;HeLa;K562                                                                   1\n",
       "MKN45;NCI-N87;HeLa                                                                      1\n",
       "SPCA1;H522;P53RRA;HBE;P53RRA;A549                                                       1\n",
       "HEK293;HepG2;K562;Mesenchymal-like HMLE                                                 1\n",
       "Huh7                                                                                    1\n",
       "CMVEC                                                                                   1\n",
       "AR42J                                                                                   1\n",
       "OVCAR3;A2780                                                                            1\n",
       "Name: tissueOrCell, Length: 353, dtype: int64"
      ]
     },
     "execution_count": 21,
     "metadata": {},
     "output_type": "execute_result"
    }
   ],
   "source": [
    "# Make another plot representing organism cell type if applicable to otganism\n",
    "# Reduce each category to one cell type\n",
    "# sbn.countplot(y = 'tissueOrCell',\n",
    "#               data = df2,\n",
    "#               order = df2['tissueOrCell'].value_counts().index,\n",
    "#               dodge = False)\n",
    "\n",
    "df['tissueOrCell'].value_counts()"
   ]
  },
  {
   "cell_type": "markdown",
   "metadata": {},
   "source": [
    "## Predict Interactions Using Whole RNA Sequence\n",
    "\n",
    "There are three models that are predicted using \n",
    "\n",
    "|PMID|Title|Model name|Type|\n",
    "|:--:|:--:|:--:|:--:|\n",
    "31151273|A Hybrid Prediction Method for Plant lncRNA-Protein Interaction|PLRPIM|Protein and RNA Autoencoders -> LGBM RF|\n",
    "31890140|Learning distributed representations of RNA and protein sequences and its application for predicting lncRNA-protein interactions|LPI-Pred|Embedding -> RF classifier|\n",
    "30832218| RPITER: A Hierarchical Deep Learning Framework for ncRNA Protein Interaction Prediction| RPITER| Wide CNN + SAE ensemble -> 2 Dense -> output| \n",
    "30813451| BGFE: A Deep Learning Model for ncRNA-Protein Interaction Predictions Based on Improved Sequence Information | BGFE | Protein and RNA SAEs -> RF|\n",
    "30321541 | Prediction of RNA-protein interactions by combining deep convolutional neural network with feature selection ensemble method | RPIFSE | Deeper CNN -> dense -> output ->  ELM|\n",
    "27506469| IPMiner: hidden ncRNA-protein interaction sequential pattern mining with stacked autoencoder for accurate computational prediction | IPMiner | SAE -> RF -> Log. Regression |\n",
    "29858068 | A Deep Learning Framework for Robust and Accurate Prediction of ncRNA-Protein Interactions Using Evolutionary Information | RPI-SAN | SAE -> RF |"
   ]
  },
  {
   "cell_type": "code",
   "execution_count": 26,
   "metadata": {},
   "outputs": [],
   "source": []
  },
  {
   "cell_type": "markdown",
   "metadata": {},
   "source": [
    "These tools are also compared using three precurated datasets frequently used for comparison:\n",
    "\n",
    "| Dataset | Positive IDs | Negative IDs | RNAs | Proteins | Organisms | Ref |\n",
    "-------|----|------|----|-------|----|---\n",
    "RPI1807 | 1807 | 1436 | 1078 | 3131 | X | [[3]](https://www.ncbi.nlm.nih.gov/pmc/articles/PMC4330382/pdf/gkv020.pdf) |\n",
    "RPI2241 | 2241 | 2241 | 841 | 2042 | X | [[1]](https://bmcbioinformatics.biomedcentral.com/track/pdf/10.1186/1471-2105-12-489) |\n"
   ]
  }
 ],
 "metadata": {
  "kernelspec": {
   "display_name": "Python 3",
   "language": "python",
   "name": "python3"
  },
  "language_info": {
   "codemirror_mode": {
    "name": "ipython",
    "version": 3
   },
   "file_extension": ".py",
   "mimetype": "text/x-python",
   "name": "python",
   "nbconvert_exporter": "python",
   "pygments_lexer": "ipython3",
   "version": "3.7.3"
  }
 },
 "nbformat": 4,
 "nbformat_minor": 4
}
